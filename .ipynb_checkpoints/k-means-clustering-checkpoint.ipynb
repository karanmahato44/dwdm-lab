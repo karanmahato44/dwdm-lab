{
 "cells": [
  {
   "cell_type": "code",
   "execution_count": null,
   "id": "dc20ce27-53c0-4f52-b144-7c17df92c1bd",
   "metadata": {},
   "outputs": [],
   "source": [
    "import numpy as np\n",
    "import pandas as pd\n",
    "import matplotlib.pyplot as plt\n",
    "\n",
    "%matplotlib inline\n",
    "\n",
    "import sys\n",
    "\n",
    "mean_01 = np.array([0.0, 0.0])\n",
    "cov_01 = np.array([[1, 0.3], [0.3, 1]])\n",
    "dist_01 = np.random.multivariate_normal(mean_01, cov_01, 100)\n",
    "\n",
    "mean_02 = np.array([6.0, 7.0])\n",
    "cov_02 = np.array([[1.5, 0.3], [0.3, 1]])\n",
    "dist_02 = np.random.multivariate_normal(mean_02, cov_02, 100)\n",
    "\n",
    "mean_03 = np.array([7.0, -5.0])\n",
    "cov_03 = np.array([[1.2, 0.5], [0.5, 1.3]])\n",
    "dist_03 = np.random.multivariate_normal(mean_03, cov_03, 100)\n",
    "\n",
    "mean_04 = np.array([2.0, -7.0])\n",
    "cov_04 = np.array([[1.2, 0.5], [0.5, 1.3]])\n",
    "dist_04 = np.random.multivariate_normal(mean_04, cov_04, 100)\n",
    "\n",
    "data = np.vstack((dist_01, dist_02, dist_03, dist_04))\n",
    "np.random.shuffle(data)\n"
   ]
  },
  {
   "cell_type": "code",
   "execution_count": null,
   "id": "f47352fb-233e-4b7e-9557-566db4e4a480",
   "metadata": {},
   "outputs": [],
   "source": [
    "def plot(data, centroids):\n",
    "    plt.scatter(data[:, 0], data[:, 1], marker = '.', color = 'gray', label = 'data points')\n",
    "    plt.scatter(centroids[:-1, 0], centroids[:-1, 1], color = 'black', label = 'previously selected centroids')\n",
    "    plt.scatter(centroids[-1, 0], centroids[-1, 1], color = 'red', label = 'next centroid')\n",
    "    plt.title('Select % d th centroid' % (centroids.shape[0]))\n",
    "    plt.legend()\n",
    "    plt.xlim(-5, 12)\n",
    "    plt.ylim(-10, 15)\n",
    "    plt.show()"
   ]
  },
  {
   "cell_type": "code",
   "execution_count": null,
   "id": "4d75e267-6344-4112-a86d-639088fe29b4",
   "metadata": {},
   "outputs": [],
   "source": [
    "def distance(p1, p2):\n",
    "    return np.sum((p1 - p2)**2)"
   ]
  },
  {
   "cell_type": "code",
   "execution_count": null,
   "id": "9cf55011-f022-4fed-b81c-7a04786d55f1",
   "metadata": {},
   "outputs": [],
   "source": [
    "def initialize(data, k):\n",
    "    centroids = []\n",
    "    centroids.append(data[np.random.randint(data.shape[0]), :])\n",
    "    plot(data, np.array(centroids))\n",
    "    for c_id in range(k-1):\n",
    "        dist = []\n",
    "        for i in range(data.shape[0]):\n",
    "            point = data[i, :]\n",
    "            d = sys.maxsize\n",
    "            for j in range(len(centroids)):\n",
    "                temp_dist = distance(point, centroids[j])\n",
    "                d = min(d, temp_dist)\n",
    "            dist.append(d)\n",
    "        dist = np.array(dist)\n",
    "        next_centroid = data[np.argmax(dist), :]\n",
    "        centroids.append(next_centroid)\n",
    "        dist = []\n",
    "        plot(data, np.array(centroids))\n",
    "    return centroids\n",
    "\n",
    "centroids = initialize(data, k=4)\n"
   ]
  }
 ],
 "metadata": {
  "kernelspec": {
   "display_name": "Python 3 (ipykernel)",
   "language": "python",
   "name": "python3"
  },
  "language_info": {
   "codemirror_mode": {
    "name": "ipython",
    "version": 3
   },
   "file_extension": ".py",
   "mimetype": "text/x-python",
   "name": "python",
   "nbconvert_exporter": "python",
   "pygments_lexer": "ipython3",
   "version": "3.10.9"
  }
 },
 "nbformat": 4,
 "nbformat_minor": 5
}
